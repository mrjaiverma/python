{
 "cells": [
  {
   "cell_type": "code",
   "execution_count": 3,
   "metadata": {},
   "outputs": [
    {
     "name": "stdout",
     "output_type": "stream",
     "text": [
      "2\n",
      "JaiVerma\n",
      "DSA\n",
      "['DSA', 'JaiVerma']\n"
     ]
    }
   ],
   "source": [
    "#Sorting the string according to the dictionary \n",
    "N = int(input())\n",
    "strings = []\n",
    "for i in range(N): \n",
    "    strings.append(input())\n",
    "print(sorted(strings))"
   ]
  },
  {
   "cell_type": "code",
   "execution_count": 17,
   "metadata": {},
   "outputs": [
    {
     "name": "stdout",
     "output_type": "stream",
     "text": [
      "['My', 'name', 'is', 'Jai', 'Verma']\n"
     ]
    }
   ],
   "source": [
    "#Tokenise a string in python\n",
    "string = \"My name is Jai Verma\"\n",
    "tok_string = string.split(\" \")\n",
    "print(tok_string)"
   ]
  },
  {
   "cell_type": "code",
   "execution_count": 10,
   "metadata": {},
   "outputs": [
    {
     "name": "stdout",
     "output_type": "stream",
     "text": [
      "3\n",
      "24 13\n",
      "25 11\n",
      "26 12\n",
      "2 false numeric\n",
      "['11', '12', '13']\n"
     ]
    }
   ],
   "source": [
    "N = int(input())\n",
    "arr = []\n",
    "def sorted_array(array, key, reverse, sorting_type): \n",
    "    dictionary = {}\n",
    "    index = int(key)-1 \n",
    "    for i in range(len(arr)): \n",
    "        dictionary[array[i][index]] = array[i]\n",
    "    keys = list(dictionary.keys())\n",
    "    #sorted_keys = keys.sort()\n",
    "    print(sorted(keys))\n",
    "    \n",
    "for i in range(N): \n",
    "    sub = input().split(\" \")\n",
    "    arr.append(sub)\n",
    "key, reverse, sorting_type = input().split(\" \")\n",
    "sorted_array(arr, key, reverse, sorting_type)"
   ]
  },
  {
   "cell_type": "code",
   "execution_count": null,
   "metadata": {},
   "outputs": [],
   "source": []
  }
 ],
 "metadata": {
  "kernelspec": {
   "display_name": "Python 3",
   "language": "python",
   "name": "python3"
  },
  "language_info": {
   "codemirror_mode": {
    "name": "ipython",
    "version": 3
   },
   "file_extension": ".py",
   "mimetype": "text/x-python",
   "name": "python",
   "nbconvert_exporter": "python",
   "pygments_lexer": "ipython3",
   "version": "3.7.6"
  }
 },
 "nbformat": 4,
 "nbformat_minor": 4
}
