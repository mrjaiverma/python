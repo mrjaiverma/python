{
 "cells": [
  {
   "cell_type": "code",
   "execution_count": 6,
   "metadata": {},
   "outputs": [
    {
     "name": "stdout",
     "output_type": "stream",
     "text": [
      "['c', 'o', 'd', 'i', 'n', 'g', 'd', 'd', 'i', 'n', 'g']\n"
     ]
    }
   ],
   "source": [
    "#Remove any duplicate characters in the string \n",
    "string = \"cooooddding\"\n",
    "arr = list(string)\n",
    "prev = 0 \n",
    "for current in range(1, len(arr)): \n",
    "    if arr[prev] != arr[current]: \n",
    "        prev=prev+1 \n",
    "        arr[prev] = arr[current]\n",
    "\n",
    "print(str(arr))"
   ]
  },
  {
   "cell_type": "code",
   "execution_count": 10,
   "metadata": {},
   "outputs": [
    {
     "name": "stdout",
     "output_type": "stream",
     "text": [
      "5\n",
      "JaiVerma\n",
      "My name is Jai \n",
      "MeenaVeram \n",
      "Hello world \n",
      "DSA\n",
      "15\n",
      "My name is Jai \n"
     ]
    }
   ],
   "source": [
    "#Largest string among N string \n",
    "N = int(input())\n",
    "maxlen = 0 \n",
    "maxstring = str()\n",
    "for i in range(N): \n",
    "    string = input()\n",
    "    if len(string) > maxlen: \n",
    "        maxlen = len(string)\n",
    "        maxstring = string\n",
    "print(maxlen)\n",
    "print(maxstring)"
   ]
  },
  {
   "cell_type": "code",
   "execution_count": null,
   "metadata": {},
   "outputs": [],
   "source": []
  }
 ],
 "metadata": {
  "kernelspec": {
   "display_name": "Python 3",
   "language": "python",
   "name": "python3"
  },
  "language_info": {
   "codemirror_mode": {
    "name": "ipython",
    "version": 3
   },
   "file_extension": ".py",
   "mimetype": "text/x-python",
   "name": "python",
   "nbconvert_exporter": "python",
   "pygments_lexer": "ipython3",
   "version": "3.7.6"
  }
 },
 "nbformat": 4,
 "nbformat_minor": 4
}
