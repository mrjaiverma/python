{
 "cells": [
  {
   "cell_type": "code",
   "execution_count": 9,
   "metadata": {},
   "outputs": [
    {
     "name": "stdout",
     "output_type": "stream",
     "text": [
      "[2, 4, 5, 6, 9]\n"
     ]
    }
   ],
   "source": [
    "#Selection Sort \n",
    "#swap the lowest number with the most initial index \n",
    "    \n",
    "arr = [2, 6, 5, 4, 9]\n",
    "\n",
    "for i in range(len(arr)):\n",
    "   for j in range(i+1, len(arr)):\n",
    "     if arr[i] > arr[j]: \n",
    "        arr[i], arr[j] = arr[j], arr[i]\n",
    "print(arr)"
   ]
  },
  {
   "cell_type": "code",
   "execution_count": 15,
   "metadata": {},
   "outputs": [
    {
     "name": "stdout",
     "output_type": "stream",
     "text": [
      "[2, 6, 5, 4, 9]\n"
     ]
    }
   ],
   "source": [
    "# Bubble Sort \n",
    "#swap the larger element with the neighbouring element \n",
    "\n",
    "arr = [2, 6, 5, 4, 9]\n",
    "n = len(arr)\n",
    "for i in range(n): \n",
    "   for j in range(n-i):\n",
    "    if arr[i] > arr[i+1]: \n",
    "        arr[i], arr[j] = arr[j], arr[i]\n",
    "    n = n - 1 \n",
    "print(arr)"
   ]
  },
  {
   "cell_type": "code",
   "execution_count": 17,
   "metadata": {},
   "outputs": [
    {
     "name": "stdout",
     "output_type": "stream",
     "text": [
      "[2, 4, 5, 6, 9]\n"
     ]
    }
   ],
   "source": [
    "#Insertion sort \n",
    "#Insert the current element in 'right' position of the sorted array \n",
    "\n",
    "arr = [2,6,5,4,9]\n",
    "n = len(arr)\n",
    "for i in range(n-1):\n",
    "    anchor = arr[i]\n",
    "    j = i-1 \n",
    "    while j>=0 and arr[j] > anchor: \n",
    "        arr[j+1] = arr[j]\n",
    "        j = j - 1 \n",
    "    arr[j+1] = anchor\n",
    "print(arr)"
   ]
  },
  {
   "cell_type": "code",
   "execution_count": null,
   "metadata": {},
   "outputs": [],
   "source": []
  }
 ],
 "metadata": {
  "kernelspec": {
   "display_name": "Python 3",
   "language": "python",
   "name": "python3"
  },
  "language_info": {
   "codemirror_mode": {
    "name": "ipython",
    "version": 3
   },
   "file_extension": ".py",
   "mimetype": "text/x-python",
   "name": "python",
   "nbconvert_exporter": "python",
   "pygments_lexer": "ipython3",
   "version": "3.7.6"
  }
 },
 "nbformat": 4,
 "nbformat_minor": 4
}
