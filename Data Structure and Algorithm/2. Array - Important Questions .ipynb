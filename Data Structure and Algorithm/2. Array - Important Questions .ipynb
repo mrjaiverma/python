{
 "cells": [
  {
   "cell_type": "code",
   "execution_count": 8,
   "metadata": {},
   "outputs": [
    {
     "name": "stdout",
     "output_type": "stream",
     "text": [
      "[[1], [1, 2], [1, 2, 3], [1, 2, 3, 4], [2], [2, 3], [2, 3, 4], [3], [3, 4], [4]]\n"
     ]
    }
   ],
   "source": [
    "#Print all the subarray of an array 0(N2)\n",
    "subarrays = []\n",
    "arr = [1,2,3,4]\n",
    "for i in range(len(arr)+1): \n",
    "    for j in range(i+1, len(arr)+1): \n",
    "      sub = arr[i: j]\n",
    "      subarrays.append(sub)\n",
    "print(subarrays)"
   ]
  },
  {
   "cell_type": "code",
   "execution_count": 3,
   "metadata": {},
   "outputs": [
    {
     "name": "stdout",
     "output_type": "stream",
     "text": [
      "10\n",
      "[1, 2, 3, 4]\n"
     ]
    }
   ],
   "source": [
    "#Approach 1: Naive Approach O(N3)\n",
    "#Sum of Subarray having the maximum sum \n",
    "subarrays = []\n",
    "arr = [1,2,3,4]\n",
    "for i in range(len(arr)+1): \n",
    "    for j in range(i+1, len(arr)+1): \n",
    "        sub = arr[i: j]\n",
    "        subarrays.append(sub)\n",
    "\n",
    "maxsum = 0 \n",
    "maxsubarray = None \n",
    "for subarray in subarrays: \n",
    "    if sum(subarray) > maxsum: \n",
    "        maxsum = sum(subarray)\n",
    "        maxsubarray = subarray  \n",
    "\n",
    "print(maxsum)\n",
    "print(maxsubarray)"
   ]
  },
  {
   "cell_type": "code",
   "execution_count": 19,
   "metadata": {},
   "outputs": [
    {
     "name": "stdout",
     "output_type": "stream",
     "text": [
      "10\n",
      "[1, 2, 3, 4]\n"
     ]
    }
   ],
   "source": [
    "#Approach 2: Naive Approach O(N2)\n",
    "#Sum of Subarray having the maximum sum \n",
    "sumarrays = []\n",
    "maxarray = []\n",
    "arr = [1,2,3,4]\n",
    "maxsum = 0 \n",
    "for i in range(len(arr)+1): \n",
    "    for j in range(i+1, len(arr)+1): \n",
    "        sub = arr[i: j]\n",
    "        if sumarrays == []: \n",
    "           sumarrays.append(sum(sub)) \n",
    "        elif max(sumarrays) < sum(sub): \n",
    "           maxsum = sum(sub)\n",
    "           maxarray = sub\n",
    "        sumarrays.append(sum(sub))\n",
    "\n",
    "print(maxsum)\n",
    "print(maxarray)"
   ]
  },
  {
   "cell_type": "code",
   "execution_count": 22,
   "metadata": {},
   "outputs": [
    {
     "name": "stdout",
     "output_type": "stream",
     "text": [
      "10\n"
     ]
    }
   ],
   "source": [
    "#Approach 3: Kadane's Subarray Sum O(N3)\n",
    "#Sum of Subarray having the maximum sum \n",
    "arr = [1,2,3,4]\n",
    "ms = 0 \n",
    "cs = 0\n",
    "for i in range(len(arr)): \n",
    "      cs = cs + arr[i]\n",
    "      if cs > ms: \n",
    "         ms = cs \n",
    "\n",
    "print(ms)"
   ]
  },
  {
   "cell_type": "code",
   "execution_count": 1,
   "metadata": {},
   "outputs": [
    {
     "name": "stdout",
     "output_type": "stream",
     "text": [
      "[[3, 13], [5, 11]]\n"
     ]
    }
   ],
   "source": [
    "#Given an array find all the pairs of arrays having sum = K \n",
    "arr = [1,3,5,7,10,11,12,13]\n",
    "start = 0\n",
    "pairs = []\n",
    "K = 16 \n",
    "end = len(arr) - 1 \n",
    "while(start<end):\n",
    "    if arr[start] + arr[end] < K: \n",
    "        start = start + 1 \n",
    "    elif arr[start] + arr[end] > K:\n",
    "        end = end - 1 \n",
    "    elif arr[start] + arr[end] == K: \n",
    "        pairs.append([arr[start], arr[end]])\n",
    "        start = start + 1\n",
    "        end = end - 1\n",
    "\n",
    "print(pairs)"
   ]
  },
  {
   "cell_type": "code",
   "execution_count": null,
   "metadata": {},
   "outputs": [],
   "source": []
  }
 ],
 "metadata": {
  "kernelspec": {
   "display_name": "Python 3",
   "language": "python",
   "name": "python3"
  },
  "language_info": {
   "codemirror_mode": {
    "name": "ipython",
    "version": 3
   },
   "file_extension": ".py",
   "mimetype": "text/x-python",
   "name": "python",
   "nbconvert_exporter": "python",
   "pygments_lexer": "ipython3",
   "version": "3.7.6"
  }
 },
 "nbformat": 4,
 "nbformat_minor": 4
}
