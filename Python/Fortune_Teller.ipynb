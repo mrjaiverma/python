{
 "cells": [
  {
   "cell_type": "code",
   "execution_count": 1,
   "metadata": {},
   "outputs": [],
   "source": [
    "import tkinter as tk\n",
    "\n",
    "#creating a window \n",
    "window = tk.Tk()\n",
    "window.geometry('500x250')\n",
    "#functions \n",
    "def get_answer():\n",
    "    import random\n",
    "    num = random.randint(0, 11)\n",
    "    answers = [\n",
    "        \"The answer lies in you\",\n",
    "        \"I do not know\",\n",
    "        \"Almost certainly\",\n",
    "        \"well, well\",\n",
    "        \"Outlook good\",\n",
    "        \"Why do you need to ask\",\n",
    "        \"Go away I do not wish to answer at this time, I am busy\",\n",
    "        \"Time will only tell\",\n",
    "        \"Cannot predict now\",\n",
    "        \"Reply hazy, try again\",\n",
    "        \"most probably\",\n",
    "        \"Hmmm, I am thinking!\"\n",
    "    ]\n",
    "    return answers[num]\n",
    "\n",
    "def predict():\n",
    "   label['text'] = get_answer()\n",
    "\n",
    "#widgets \n",
    "textbox = tk.Entry()\n",
    "predict_btn = tk.Button(text='Predict', command=predict)\n",
    "label = tk.Label(text='')\n",
    "\n",
    "#pack \n",
    "textbox.pack(pady=20)\n",
    "predict_btn.pack(pady=10)\n",
    "label.pack()\n",
    "#mainloop\n",
    "window.mainloop()"
   ]
  },
  {
   "cell_type": "code",
   "execution_count": null,
   "metadata": {},
   "outputs": [],
   "source": []
  }
 ],
 "metadata": {
  "kernelspec": {
   "display_name": "Python 3",
   "language": "python",
   "name": "python3"
  },
  "language_info": {
   "codemirror_mode": {
    "name": "ipython",
    "version": 3
   },
   "file_extension": ".py",
   "mimetype": "text/x-python",
   "name": "python",
   "nbconvert_exporter": "python",
   "pygments_lexer": "ipython3",
   "version": "3.7.6"
  }
 },
 "nbformat": 4,
 "nbformat_minor": 4
}
