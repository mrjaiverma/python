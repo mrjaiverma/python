{
 "cells": [
  {
   "cell_type": "code",
   "execution_count": 1,
   "metadata": {},
   "outputs": [],
   "source": [
    "import tkinter as tk \n",
    "from gtts import gTTS\n",
    "from playsound import playsound \n",
    "\n",
    "window = tk.Tk()\n",
    "\n",
    "#functions \n",
    "def sayitout():\n",
    "     message = textbox.get()\n",
    "     speech = gTTS(text=message)\n",
    "     speech.save('message.mp3')\n",
    "     playsound('message.mp3')\n",
    "    \n",
    "#widgets \n",
    "textbox = tk.Entry()\n",
    "btn = tk.Button(text='Say it out', command=sayitout)\n",
    "#pack \n",
    "textbox.pack(pady=10)\n",
    "btn.pack(pady=10)\n",
    "\n",
    "#mainloop \n",
    "window.mainloop()"
   ]
  },
  {
   "cell_type": "code",
   "execution_count": null,
   "metadata": {},
   "outputs": [],
   "source": []
  }
 ],
 "metadata": {
  "kernelspec": {
   "display_name": "Python 3",
   "language": "python",
   "name": "python3"
  },
  "language_info": {
   "codemirror_mode": {
    "name": "ipython",
    "version": 3
   },
   "file_extension": ".py",
   "mimetype": "text/x-python",
   "name": "python",
   "nbconvert_exporter": "python",
   "pygments_lexer": "ipython3",
   "version": "3.7.6"
  }
 },
 "nbformat": 4,
 "nbformat_minor": 4
}
