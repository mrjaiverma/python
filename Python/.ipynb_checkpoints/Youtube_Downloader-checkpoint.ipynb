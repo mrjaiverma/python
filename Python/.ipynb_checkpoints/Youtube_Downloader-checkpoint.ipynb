{
 "cells": [
  {
   "cell_type": "code",
   "execution_count": 1,
   "metadata": {},
   "outputs": [],
   "source": [
    "import tkinter as tk \n",
    "#creating window \n",
    "window = tk.Tk()\n",
    "\n",
    "#functions\n",
    "def downloader():\n",
    "    from pytube import YouTube\n",
    "    url = YouTube(str(link.get()))\n",
    "    video = url.streams.first()\n",
    "    video.download()\n",
    "\n",
    "#widgets \n",
    "label = tk.Label(text='YouTube Downloader')\n",
    "label.config(font=('Aerial', 20))\n",
    "link = tk.Entry(window, width=100)\n",
    "link.config()\n",
    "btn = tk.Button(window, text='Download', command=downloader)\n",
    "\n",
    "#pack\n",
    "label.pack()\n",
    "link.pack(pady=10)\n",
    "btn.pack(pady=10)\n",
    "\n",
    "#mainloop\n",
    "window.mainloop()"
   ]
  },
  {
   "cell_type": "code",
   "execution_count": null,
   "metadata": {},
   "outputs": [],
   "source": []
  }
 ],
 "metadata": {
  "kernelspec": {
   "display_name": "Python 3",
   "language": "python",
   "name": "python3"
  },
  "language_info": {
   "codemirror_mode": {
    "name": "ipython",
    "version": 3
   },
   "file_extension": ".py",
   "mimetype": "text/x-python",
   "name": "python",
   "nbconvert_exporter": "python",
   "pygments_lexer": "ipython3",
   "version": "3.7.6"
  }
 },
 "nbformat": 4,
 "nbformat_minor": 4
}
