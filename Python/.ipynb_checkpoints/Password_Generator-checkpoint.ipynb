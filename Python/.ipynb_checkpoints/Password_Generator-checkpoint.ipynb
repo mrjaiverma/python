{
 "cells": [
  {
   "cell_type": "code",
   "execution_count": 2,
   "metadata": {},
   "outputs": [],
   "source": [
    "#password generator\n",
    "import tkinter as tk \n",
    "from tkinter import *\n",
    "#create window \n",
    "window = tk.Tk()\n",
    "#function\n",
    "def generate_pass():\n",
    "    import string \n",
    "    import random \n",
    "    Password = \"\"\n",
    "    for i in range(0, 4):\n",
    "      Password = Password + random.choice(string.ascii_uppercase) + random.choice(string.ascii_lowercase) + random.choice(string.digits) + random.choice(string.punctuation)\n",
    "    Password = Password[0:pass_len.get()]\n",
    "    password['text'] = Password \n",
    "    \n",
    "def copy_pass():\n",
    "    import pyperclip\n",
    "    pyperclip.copy(password['text'])\n",
    "\n",
    "#widgets \n",
    "label1 = tk.Label(window, text='Password Generator')\n",
    "label1.config(font=('Aerial', 20))\n",
    "pass_len = IntVar()\n",
    "frame = tk.Frame(window)\n",
    "textbox = tk.Spinbox(window, from_=6, to_=32, textvariable=pass_len, width=5)\n",
    "password = tk.Label(frame, text='Generated Pass')\n",
    "password.grid(row=1, column=0)\n",
    "copy_btn = tk.Button(frame, text='Copy', command=copy_pass)\n",
    "copy_btn.grid(row=1, column=1)\n",
    "btn = tk.Button(window, text='Generate', command=generate_pass)\n",
    "#pack \n",
    "label1.pack()\n",
    "textbox.pack()\n",
    "frame.pack()\n",
    "btn.pack(pady=10)\n",
    "#mainloop\n",
    "window.mainloop()"
   ]
  },
  {
   "cell_type": "code",
   "execution_count": null,
   "metadata": {},
   "outputs": [],
   "source": []
  }
 ],
 "metadata": {
  "kernelspec": {
   "display_name": "Python 3",
   "language": "python",
   "name": "python3"
  },
  "language_info": {
   "codemirror_mode": {
    "name": "ipython",
    "version": 3
   },
   "file_extension": ".py",
   "mimetype": "text/x-python",
   "name": "python",
   "nbconvert_exporter": "python",
   "pygments_lexer": "ipython3",
   "version": "3.7.6"
  }
 },
 "nbformat": 4,
 "nbformat_minor": 4
}
