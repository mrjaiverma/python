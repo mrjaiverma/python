{
 "cells": [
  {
   "cell_type": "code",
   "execution_count": 4,
   "metadata": {},
   "outputs": [],
   "source": [
    "import tkinter as tk \n",
    "import datetime\n",
    "\n",
    "window = tk.Tk()\n",
    "window.configure(background='grey')\n",
    "window.geometry('250x150')\n",
    "\n",
    "#functions \n",
    "def calculateage(event):\n",
    "    date = datetime.datetime.now()\n",
    "    string = textbox.get()\n",
    "    dd, mm, yy = string.split('/')\n",
    "    year = date.year - int(yy)\n",
    "    month = date.month - int(mm)\n",
    "    day = date.day - int(dd)\n",
    "    age['text'] = \"You are \"+str(year)+\" year, \"+str(month)+\" month, \"+str(day)+\" day old.\"\n",
    "\n",
    "#widgets\n",
    "instructions = tk.Label(text='Enter Date of Birth', foreground='white', background='black')\n",
    "instructions.config(font=(\"Courier\", 15))\n",
    "textbox = tk.Entry(justify='center')\n",
    "age = tk.Label(background='grey', foreground='White')\n",
    "age.config(font=('Aerial', 10))\n",
    "window.bind('<Return>', calculateage)\n",
    "#pack\n",
    "instructions.pack(fill='x')\n",
    "textbox.pack(pady=20)\n",
    "age.pack(pady=20)\n",
    "\n",
    "#mainloop \n",
    "window.mainloop()"
   ]
  },
  {
   "cell_type": "code",
   "execution_count": null,
   "metadata": {},
   "outputs": [],
   "source": []
  }
 ],
 "metadata": {
  "kernelspec": {
   "display_name": "Python 3",
   "language": "python",
   "name": "python3"
  },
  "language_info": {
   "codemirror_mode": {
    "name": "ipython",
    "version": 3
   },
   "file_extension": ".py",
   "mimetype": "text/x-python",
   "name": "python",
   "nbconvert_exporter": "python",
   "pygments_lexer": "ipython3",
   "version": "3.7.6"
  }
 },
 "nbformat": 4,
 "nbformat_minor": 4
}
